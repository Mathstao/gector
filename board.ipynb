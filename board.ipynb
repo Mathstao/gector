{
 "cells": [
  {
   "cell_type": "code",
   "execution_count": 1,
   "metadata": {},
   "outputs": [],
   "source": [
    "import logging\n",
    "import requests\n",
    "from pprint import pprint\n",
    "from time import time\n",
    "from gector.gec_model import GecBERTModel\n",
    "\n",
    "import spacy\n",
    "from utils.helpers import *\n",
    "\n",
    "nlp = spacy.load(\"en\")"
   ]
  },
  {
   "cell_type": "code",
   "execution_count": 2,
   "metadata": {},
   "outputs": [],
   "source": [
    "model = GecBERTModel(\n",
    "    vocab_path = \"./data/output_vocabulary\",\n",
    "    model_paths = [\"./pretrain/roberta_1_gector.th\"],\n",
    "    model_name = \"roberta\",\n",
    "    is_ensemble = False,\n",
    "    min_probability = 0.1,\n",
    "    min_error_probability = 0.1,\n",
    ")"
   ]
  },
  {
   "cell_type": "code",
   "execution_count": 3,
   "metadata": {},
   "outputs": [
    {
     "data": {
      "text/plain": [
       "'@@UNKNOWN@@'"
      ]
     },
     "execution_count": 3,
     "metadata": {},
     "output_type": "execute_result"
    }
   ],
   "source": [
    "model.vocab.get_token_from_index(5000, namespace='labels')"
   ]
  },
  {
   "cell_type": "code",
   "execution_count": 40,
   "metadata": {
    "scrolled": false
   },
   "outputs": [
    {
     "name": "stdout",
     "output_type": "stream",
     "text": [
      "[['England', 'coach', 'Andy', 'Robinson', 'is', 'already', 'without', 'centre', 'Will', 'Greenwood', 'and', 'flanker', 'Richard', 'Hill', 'while', 'fly', '-', 'half', 'Jonny', 'Wilkinson', 'is', 'certain', 'to', 'miss', 'at', 'least', 'the', 'first', 'two', 'games', '.']]\n",
      "[['England', 'coach', 'Andy', 'Robinson', 'is', 'already', 'without', 'centre', 'Will', 'Greenwood', 'and', 'flanker', 'Richard', 'Hill', 'while', 'fly', '-', 'half', 'Jonny', 'Wilkinson', 'is', 'certain', 'to', 'miss', 'at', 'least', 'the', 'first', 'two', 'games', '.']]\n",
      "[[0.616240382194519]]\n",
      "\n",
      "[0, 0, 0, 0, 0, 0, 0, 0, 0, 0, 0, 0, 0, 0, 4, 0, 0, 0, 0, 0, 0, 0, 0, 0, 0, 0, 0, 0, 0, 0, 0, 0]\n",
      "['$KEEP', '$KEEP', '$KEEP', '$KEEP', '$KEEP', '$KEEP', '$KEEP', '$KEEP', '$KEEP', '$KEEP', '$KEEP', '$KEEP', '$KEEP', '$KEEP', '$APPEND_,', '$KEEP', '$KEEP', '$KEEP', '$KEEP', '$KEEP', '$KEEP', '$KEEP', '$KEEP', '$KEEP', '$KEEP', '$KEEP', '$KEEP', '$KEEP', '$KEEP', '$KEEP', '$KEEP', '$KEEP']\n",
      "[0.9962007403373718, 0.9993681311607361, 0.9980241060256958, 0.9999346733093262, 0.9996490478515625, 0.9996966123580933, 0.9996246099472046, 0.9937885403633118, 0.9931100606918335, 0.9997755885124207, 0.9997113347053528, 0.9887595176696777, 0.9954891800880432, 0.9999051094055176, 0.6651918888092041, 0.9966500401496887, 0.9909160733222961, 0.9917945265769958, 0.9974023699760437, 0.9999198913574219, 0.999426007270813, 0.9936096668243408, 0.9989064931869507, 0.999924898147583, 0.9994823932647705, 0.9999191761016846, 0.9996302127838135, 0.9997891783714294, 0.9995119571685791, 0.9995627999305725, 0.9988062381744385, 0.9996664524078369]\n",
      "\n"
     ]
    }
   ],
   "source": [
    "text = \"England coach Andy Robinson is already without centre Will Greenwood and flanker Richard Hill while fly-half Jonny Wilkinson is certain to miss at least the first two games.\"\n",
    "batch = []\n",
    "\n",
    "doc = nlp(text)\n",
    "sentences = []\n",
    "for sent in doc.sents:\n",
    "    tokens = []\n",
    "    sentences.append(sent.text)\n",
    "    for token in nlp(sent.text):\n",
    "        tokens.append(token.text)\n",
    "    tokens = [i.strip() for i in tokens if i.strip()]\n",
    "    batch.append(tokens)\n",
    "    \n",
    "config = {\n",
    "    'iterations': 2,\n",
    "    'min_probability': 0.5,\n",
    "    'min_error_probability': 0.7,\n",
    "    'add_spell_check': False,\n",
    "    'debug': True,\n",
    "    'case_sensitive': True,\n",
    "}\n",
    "# batch call\n",
    "preds, probs, idxs_batch, inter_pred, error_probs, cnt = model.handle_batch(batch, config=config, debug=True)\n",
    "\n",
    "print(batch)\n",
    "# print(inter_pred)\n",
    "print(preds)\n",
    "print(error_probs)\n",
    "print()\n",
    "\n",
    "for curr_idxs, curr_probs in zip(idxs_batch, probs):\n",
    "    for iter_idxs, iter_probs in zip(curr_idxs, curr_probs):\n",
    "        print(iter_idxs)\n",
    "        print([model.vocab.get_token_from_index(i, namespace='labels') for i in iter_idxs])\n",
    "        print(iter_probs)\n",
    "        print()"
   ]
  },
  {
   "cell_type": "code",
   "execution_count": 17,
   "metadata": {},
   "outputs": [],
   "source": [
    "detail = model.generate_correct_detail(text, batch[0], preds[0], idxs_batch[0], probs[0], config)"
   ]
  },
  {
   "cell_type": "code",
   "execution_count": 18,
   "metadata": {},
   "outputs": [
    {
     "data": {
      "text/plain": [
       "[['Hill', 'Hill while', [89, 93]]]"
      ]
     },
     "execution_count": 18,
     "metadata": {},
     "output_type": "execute_result"
    }
   ],
   "source": [
    "detail"
   ]
  },
  {
   "cell_type": "code",
   "execution_count": 26,
   "metadata": {},
   "outputs": [
    {
     "data": {
      "text/plain": [
       "31"
      ]
     },
     "execution_count": 26,
     "metadata": {},
     "output_type": "execute_result"
    }
   ],
   "source": [
    "final_batch = ['England', 'coach', 'Andy', 'Robinson', 'is', 'already', 'without', 'centre', 'Will', 'Greenwood', 'and', 'flanker', 'Richard', 'Hill', 'while', 'fly', '-', 'half', 'Jonny', 'Wilkinson', 'is', 'certain', 'to', 'miss', 'at', 'least', 'the', 'first', 'two', 'games', '.']\n",
    "len(final_batch)"
   ]
  },
  {
   "cell_type": "code",
   "execution_count": 27,
   "metadata": {},
   "outputs": [
    {
     "ename": "TypeError",
     "evalue": "update_final_batch() missing 2 required positional arguments: 'pred_batch' and 'prev_preds_dict'",
     "output_type": "error",
     "traceback": [
      "\u001b[0;31m---------------------------------------------------------------------------\u001b[0m",
      "\u001b[0;31mTypeError\u001b[0m                                 Traceback (most recent call last)",
      "\u001b[0;32m<ipython-input-27-89560af85561>\u001b[0m in \u001b[0;36m<module>\u001b[0;34m\u001b[0m\n\u001b[0;32m----> 1\u001b[0;31m \u001b[0mmodel\u001b[0m\u001b[0;34m.\u001b[0m\u001b[0mupdate_final_batch\u001b[0m\u001b[0;34m(\u001b[0m\u001b[0mbatch\u001b[0m\u001b[0;34m,\u001b[0m \u001b[0;34m[\u001b[0m\u001b[0;36m0\u001b[0m\u001b[0;34m]\u001b[0m\u001b[0;34m)\u001b[0m\u001b[0;34m\u001b[0m\u001b[0;34m\u001b[0m\u001b[0m\n\u001b[0m",
      "\u001b[0;31mTypeError\u001b[0m: update_final_batch() missing 2 required positional arguments: 'pred_batch' and 'prev_preds_dict'"
     ]
    }
   ],
   "source": [
    "model.update_final_batch(batch, [0], )"
   ]
  },
  {
   "cell_type": "code",
   "execution_count": 37,
   "metadata": {},
   "outputs": [
    {
     "data": {
      "text/plain": [
       "['England',\n",
       " 'coach',\n",
       " 'Andy',\n",
       " 'Robinson',\n",
       " 'is',\n",
       " 'already',\n",
       " 'without',\n",
       " 'centre',\n",
       " 'Will',\n",
       " 'Greenwood',\n",
       " 'and',\n",
       " 'flanker',\n",
       " 'Richard',\n",
       " 'Hill',\n",
       " 'while',\n",
       " 'fly',\n",
       " '-',\n",
       " 'half',\n",
       " 'Jonny',\n",
       " 'Wilkinson',\n",
       " 'is',\n",
       " 'certain',\n",
       " 'to',\n",
       " 'miss',\n",
       " 'at',\n",
       " 'least',\n",
       " 'the',\n",
       " 'first',\n",
       " 'two',\n",
       " 'games',\n",
       " '.']"
      ]
     },
     "execution_count": 37,
     "metadata": {},
     "output_type": "execute_result"
    }
   ],
   "source": [
    "preds[0]"
   ]
  },
  {
   "cell_type": "code",
   "execution_count": 38,
   "metadata": {},
   "outputs": [
    {
     "data": {
      "text/plain": [
       "['England',\n",
       " 'coach',\n",
       " 'Andy',\n",
       " 'Robinson',\n",
       " 'is',\n",
       " 'already',\n",
       " 'without',\n",
       " 'centre',\n",
       " 'Will',\n",
       " 'Greenwood',\n",
       " 'and',\n",
       " 'flanker',\n",
       " 'Richard',\n",
       " 'Hill',\n",
       " 'while',\n",
       " 'fly',\n",
       " '-',\n",
       " 'half',\n",
       " 'Jonny',\n",
       " 'Wilkinson',\n",
       " 'is',\n",
       " 'certain',\n",
       " 'to',\n",
       " 'miss',\n",
       " 'at',\n",
       " 'least',\n",
       " 'the',\n",
       " 'first',\n",
       " 'two',\n",
       " 'games',\n",
       " '.']"
      ]
     },
     "execution_count": 38,
     "metadata": {},
     "output_type": "execute_result"
    }
   ],
   "source": [
    "batch[0]"
   ]
  },
  {
   "cell_type": "code",
   "execution_count": null,
   "metadata": {},
   "outputs": [],
   "source": []
  }
 ],
 "metadata": {
  "kernelspec": {
   "display_name": "Python [conda env:python37]",
   "language": "python",
   "name": "conda-env-python37-py"
  },
  "language_info": {
   "codemirror_mode": {
    "name": "ipython",
    "version": 3
   },
   "file_extension": ".py",
   "mimetype": "text/x-python",
   "name": "python",
   "nbconvert_exporter": "python",
   "pygments_lexer": "ipython3",
   "version": "3.7.6"
  }
 },
 "nbformat": 4,
 "nbformat_minor": 2
}
