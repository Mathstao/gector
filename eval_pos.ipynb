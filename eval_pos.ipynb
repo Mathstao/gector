{
 "cells": [
  {
   "cell_type": "code",
   "execution_count": null,
   "metadata": {},
   "outputs": [],
   "source": [
    "# Millions to miss out on the net\n",
    "# aust addresses un security council over iraq"
   ]
  },
  {
   "cell_type": "code",
   "execution_count": 1,
   "metadata": {},
   "outputs": [],
   "source": [
    "import requests\n",
    "import os\n",
    "from tqdm import tqdm\n",
    "import spacy\n",
    "nlp = spacy.load(\"en\")"
   ]
  },
  {
   "cell_type": "code",
   "execution_count": 2,
   "metadata": {},
   "outputs": [],
   "source": [
    "host = \"http://0.0.0.0:8890/correct\"\n",
    "\n",
    "def call_gec(data):\n",
    "    resp = requests.post(host, json=data)\n",
    "    res = resp.json()\n",
    "    return res"
   ]
  },
  {
   "cell_type": "code",
   "execution_count": 3,
   "metadata": {},
   "outputs": [],
   "source": [
    "data_path = '/home/citao/github/BBC-Dataset-News-Classification/dataset/data_files'\n",
    "domains = ['business', 'entertainment', 'politics', 'sport', 'tech']"
   ]
  },
  {
   "cell_type": "code",
   "execution_count": null,
   "metadata": {},
   "outputs": [],
   "source": [
    "corpus = {d: [] for d in domains}\n",
    "\n",
    "for domain in domains:\n",
    "    domain_path = os.path.join(data_path, domain)\n",
    "    for f in os.listdir(domain_path):\n",
    "        full_path = os.path.join(domain_path, f)\n",
    "        try:\n",
    "            doc = nlp(open(full_path).read())\n",
    "            corpus[domain].extend([i.text for i in doc.sents])\n",
    "        except:\n",
    "            print(full_path)\n",
    "    print(domain, len(corpus[domain]))\n",
    "            "
   ]
  },
  {
   "cell_type": "code",
   "execution_count": null,
   "metadata": {},
   "outputs": [],
   "source": [
    "import json\n",
    "\n",
    "json.dump(corpus, open('./bbc_news.json', 'w'))"
   ]
  },
  {
   "cell_type": "code",
   "execution_count": 199,
   "metadata": {
    "scrolled": false
   },
   "outputs": [
    {
     "name": "stdout",
     "output_type": "stream",
     "text": [
      "================================== Sentence_2 ==================================\n",
      "[GECToR Model]\n",
      "<Iteration 1>\n",
      "Sentence Error Probability: 0.9584169983863831\n",
      "# From #  My namme is Citao Wu\n",
      "#  To  #  My name is Citao Wu .\n",
      "--------------------------------------------------------------------------------\n",
      "__START__                     $KEEP                         0.9989811778068542\n",
      "My                            $KEEP                         0.9839291572570801\n",
      "namme                         $REPLACE_name                 0.9964216947555542\n",
      "is                            $KEEP                         0.9967592358589172\n",
      "Citao                         $KEEP                         0.9921404719352722\n",
      "Wu                            $APPEND_.                     0.5396763682365417\n",
      "--------------------------------------------------------------------------------\n",
      "\n",
      "<Iteration 2>\n",
      "Sentence Error Probability: 0.002291475422680378\n",
      "# From #  My name is Citao Wu .\n",
      "#  To  #  My name is Citao Wu .\n",
      "--------------------------------------------------------------------------------\n",
      "__START__                     $KEEP                         0.999846339225769\n",
      "My                            $KEEP                         0.9998688697814941\n",
      "name                          $KEEP                         0.9998441934585571\n",
      "is                            $KEEP                         0.9999501705169678\n",
      "Citao                         $KEEP                         0.9972116351127625\n",
      "Wu                            $KEEP                         0.9983446598052979\n",
      ".                             $KEEP                         0.9977915287017822\n",
      "--------------------------------------------------------------------------------\n",
      "\n",
      "================================== Sentence_3 ==================================\n",
      "[GECToR Model]\n",
      "<Iteration 1>\n",
      "Sentence Error Probability: 0.017492063343524933\n",
      "# From #  ( EID : cw39729 )\n",
      "#  To  #  ( EID : cw39729 )\n",
      "--------------------------------------------------------------------------------\n",
      "__START__                     $KEEP                         0.9996508359909058\n",
      "(                             $KEEP                         0.9996515512466431\n",
      "EID                           $KEEP                         0.9983575940132141\n",
      ":                             $KEEP                         0.9982206225395203\n",
      "cw39729                       $KEEP                         0.9887191653251648\n",
      ")                             $KEEP                         0.953021764755249\n",
      "--------------------------------------------------------------------------------\n",
      "\n",
      "================================== Sentence_4 ==================================\n",
      "[GECToR Model]\n",
      "<Iteration 1>\n",
      "Sentence Error Probability: 0.9941970109939575\n",
      "# From #  and I do admitted into the Computer Online Master prograssm 2021 spring .\n",
      "#  To  #  and I do admitted into the Computer Online Master program 2021 spring .\n",
      "--------------------------------------------------------------------------------\n",
      "__START__                     $KEEP                         0.9941190481185913\n",
      "and                           $KEEP                         0.8822112679481506\n",
      "I                             $KEEP                         0.8887283205986023\n",
      "do                            $REPLACE_was                  0.35014811158180237\n",
      "admitted                      $KEEP                         0.9037275910377502\n",
      "into                          $KEEP                         0.6991003155708313\n",
      "the                           $KEEP                         0.9652049541473389\n",
      "Computer                      $KEEP                         0.9806444048881531\n",
      "Online                        $KEEP                         0.9820368885993958\n",
      "Master                        $KEEP                         0.8441513776779175\n",
      "prograssm                     $REPLACE_program              0.693129301071167\n",
      "2021                          $KEEP                         0.8027864098548889\n",
      "spring                        $KEEP                         0.6784811615943909\n",
      ".                             $KEEP                         0.9940904974937439\n",
      "--------------------------------------------------------------------------------\n",
      "\n",
      "<Iteration 2>\n",
      "Sentence Error Probability: 0.9952463507652283\n",
      "# From #  and I do admitted into the Computer Online Master program 2021 spring .\n",
      "#  To  #  and I do admitted into the Computer Online Master program 2021 spring .\n",
      "--------------------------------------------------------------------------------\n",
      "__START__                     $KEEP                         0.9940282106399536\n",
      "and                           $KEEP                         0.8765413165092468\n",
      "I                             $KEEP                         0.8524032831192017\n",
      "do                            $REPLACE_was                  0.25339093804359436\n",
      "admitted                      $KEEP                         0.9536852836608887\n",
      "into                          $KEEP                         0.7285932302474976\n",
      "the                           $KEEP                         0.9853787422180176\n",
      "Computer                      $KEEP                         0.9892823696136475\n",
      "Online                        $KEEP                         0.9843724966049194\n",
      "Master                        $KEEP                         0.92990642786026\n",
      "program                       $KEEP                         0.5274279117584229\n",
      "2021                          $KEEP                         0.8120023012161255\n",
      "spring                        $KEEP                         0.6421138048171997\n",
      ".                             $KEEP                         0.995013415813446\n",
      "--------------------------------------------------------------------------------\n",
      "\n",
      "[LanguageTool]\n",
      "# From #  and I do admitted into the Computer Online Master program 2021 spring.\n",
      "#  To  #  And I do admit into the Computer Online Master program 2021 spring.\n",
      "--------------------------------------------------------------------------------\n",
      "[ { 'context': { 'length': 3,\n",
      "                 'offset': 0,\n",
      "                 'text': 'and I do admitted into the Computer Online ...'},\n",
      "    'contextForSureMatch': -1,\n",
      "    'ignoreForIncompleteSentence': True,\n",
      "    'length': 3,\n",
      "    'message': 'This sentence does not start with an uppercase letter.',\n",
      "    'offset': 0,\n",
      "    'replacements': [{'value': 'And'}],\n",
      "    'rule': { 'category': {'id': 'CASING', 'name': 'Capitalization'},\n",
      "              'description': 'Checks that a sentence starts with an uppercase '\n",
      "                             'letter',\n",
      "              'id': 'UPPERCASE_SENTENCE_START',\n",
      "              'issueType': 'typographical'},\n",
      "    'sentence': 'and I do admitted into the Computer Online Master prograssm '\n",
      "                '2021 spring.',\n",
      "    'shortMessage': '',\n",
      "    'type': {'typeName': 'Other'}},\n",
      "  { 'context': { 'length': 8,\n",
      "                 'offset': 9,\n",
      "                 'text': 'and I do admitted into the Computer Online Master '\n",
      "                         'progras...'},\n",
      "    'contextForSureMatch': -1,\n",
      "    'ignoreForIncompleteSentence': True,\n",
      "    'length': 8,\n",
      "    'message': 'After the auxiliary verb ‘do’, use the base form of a verb. '\n",
      "               'Did you mean “admit”?',\n",
      "    'offset': 9,\n",
      "    'replacements': [{'value': 'admit'}],\n",
      "    'rule': { 'category': {'id': 'GRAMMAR', 'name': 'Grammar'},\n",
      "              'description': \"After auxiliary 'do', use the base form of a \"\n",
      "                             'verb',\n",
      "              'id': 'AUXILIARY_DO_WITH_INCORRECT_VERB_FORM',\n",
      "              'issueType': 'grammar',\n",
      "              'sourceFile': 'grammar.xml',\n",
      "              'subId': '1',\n",
      "              'urls': [ { 'value': 'https://grammar.collinsdictionary.com/easy-learning/do'}]},\n",
      "    'sentence': 'and I do admitted into the Computer Online Master prograssm '\n",
      "                '2021 spring.',\n",
      "    'shortMessage': 'Possible grammar error',\n",
      "    'type': {'typeName': 'Other'}},\n",
      "  { 'context': { 'length': 9,\n",
      "                 'offset': 43,\n",
      "                 'text': '...dmitted into the Computer Online Master prograssm '\n",
      "                         '2021 spring.'},\n",
      "    'contextForSureMatch': 0,\n",
      "    'ignoreForIncompleteSentence': False,\n",
      "    'length': 9,\n",
      "    'message': 'Possible spelling mistake found.',\n",
      "    'offset': 50,\n",
      "    'replacements': [ {'value': 'program'},\n",
      "                      {'value': 'programs'},\n",
      "                      {'value': 'progress'}],\n",
      "    'rule': { 'category': {'id': 'TYPOS', 'name': 'Possible Typo'},\n",
      "              'description': 'Possible spelling mistake',\n",
      "              'id': 'MORFOLOGIK_RULE_EN_US',\n",
      "              'issueType': 'misspelling'},\n",
      "    'sentence': 'and I do admitted into the Computer Online Master prograssm '\n",
      "                '2021 spring.',\n",
      "    'shortMessage': 'Spelling mistake',\n",
      "    'type': {'typeName': 'Other'}}]\n",
      "--------------------------------------------------------------------------------\n",
      "\n",
      "================================== Sentence_5 ==================================\n",
      "[GECToR Model]\n",
      "<Iteration 1>\n",
      "Sentence Error Probability: 0.49050286412239075\n",
      "# From #  In my status panel , I saw a requirement about \" Required immunizations \" .\n",
      "#  To  #  In my status panel , I saw a requirement about \" Required immunizations \" .\n",
      "--------------------------------------------------------------------------------\n",
      "__START__                     $KEEP                         0.9994731545448303\n",
      "In                            $KEEP                         0.5410820841789246\n",
      "my                            $KEEP                         0.9928361773490906\n",
      "status                        $KEEP                         0.9806205630302429\n",
      "panel                         $KEEP                         0.9761763215065002\n",
      ",                             $KEEP                         0.9989595413208008\n",
      "I                             $KEEP                         0.998548686504364\n",
      "saw                           $KEEP                         0.9888213872909546\n",
      "a                             $KEEP                         0.9849728345870972\n",
      "requirement                   $KEEP                         0.9560163021087646\n",
      "about                         $REPLACE_for                  0.6494049429893494\n",
      "\"                             $KEEP                         0.9904544949531555\n",
      "Required                      $KEEP                         0.9744740724563599\n",
      "immunizations                 $KEEP                         0.9166901707649231\n",
      "\"                             $KEEP                         0.9900923371315002\n",
      ".                             $KEEP                         0.9977673292160034\n",
      "--------------------------------------------------------------------------------\n",
      "\n",
      "================================== Sentence_6 ==================================\n",
      "[GECToR Model]\n",
      "<Iteration 1>\n",
      "Sentence Error Probability: 0.987784206867218\n",
      "# From #  My question is whether I still need to meets this requirement or not , even thoxugh my program is fully online .\n",
      "#  To  #  My question is whether I still need to meet this requirement or not , even though my program is fully online .\n",
      "--------------------------------------------------------------------------------\n",
      "__START__                     $KEEP                         0.9996845722198486\n",
      "My                            $KEEP                         0.9991819262504578\n",
      "question                      $KEEP                         0.9967251420021057\n",
      "is                            $KEEP                         0.9984471201896667\n",
      "whether                       $KEEP                         0.9865064024925232\n",
      "I                             $KEEP                         0.9952414035797119\n",
      "still                         $KEEP                         0.9962215423583984\n",
      "need                          $KEEP                         0.9946617484092712\n",
      "to                            $KEEP                         0.9866783618927002\n",
      "meets                         $TRANSFORM_VERB_VBZ_VB        0.8741056323051453\n",
      "this                          $KEEP                         0.9846571087837219\n",
      "requirement                   $KEEP                         0.9722179770469666\n",
      "or                            $KEEP                         0.9967858791351318\n",
      "not                           $KEEP                         0.9976982474327087\n",
      ",                             $KEEP                         0.9985042810440063\n",
      "even                          $KEEP                         0.9840065836906433\n",
      "thoxugh                       $REPLACE_though               0.9379026889801025\n",
      "my                            $KEEP                         0.997979462146759\n",
      "program                       $KEEP                         0.9966613054275513\n",
      "is                            $KEEP                         0.9974191188812256\n",
      "fully                         $KEEP                         0.9351962208747864\n",
      "online                        $KEEP                         0.9894511103630066\n",
      ".                             $KEEP                         0.9985191226005554\n",
      "--------------------------------------------------------------------------------\n",
      "\n",
      "<Iteration 2>\n",
      "Sentence Error Probability: 0.07205194234848022\n",
      "# From #  My question is whether I still need to meet this requirement or not , even though my program is fully online .\n",
      "#  To  #  My question is whether I still need to meet this requirement or not , even though my program is fully online .\n",
      "--------------------------------------------------------------------------------\n",
      "__START__                     $KEEP                         0.9997561573982239\n",
      "My                            $KEEP                         0.9992461204528809\n",
      "question                      $KEEP                         0.9965290427207947\n",
      "is                            $KEEP                         0.998318076133728\n",
      "whether                       $KEEP                         0.9898613691329956\n",
      "I                             $KEEP                         0.9965540170669556\n",
      "still                         $KEEP                         0.9971404075622559\n",
      "need                          $KEEP                         0.9971080422401428\n",
      "to                            $KEEP                         0.9976951479911804\n",
      "meet                          $KEEP                         0.9810869097709656\n",
      "this                          $KEEP                         0.9870988726615906\n",
      "requirement                   $KEEP                         0.9800142049789429\n",
      "or                            $KEEP                         0.9973772764205933\n",
      "not                           $KEEP                         0.9981669187545776\n",
      ",                             $KEEP                         0.9979642629623413\n",
      "even                          $KEEP                         0.9995459914207458\n",
      "though                        $KEEP                         0.999055802822113\n",
      "my                            $KEEP                         0.9984205961227417\n",
      "program                       $KEEP                         0.9970366954803467\n",
      "is                            $KEEP                         0.997575581073761\n",
      "fully                         $KEEP                         0.9033406972885132\n",
      "online                        $KEEP                         0.9886201620101929\n",
      ".                             $KEEP                         0.9989411234855652\n",
      "--------------------------------------------------------------------------------\n",
      "\n",
      "================================== Sentence_7 ==================================\n",
      "[GECToR Model]\n",
      "<Iteration 1>\n",
      "Sentence Error Probability: 0.8198469877243042\n",
      "# From #  If no , could you please help me to remove this requirements from my application ?\n",
      "#  To  #  If not , could you please help me to remove these requirements from my application ?\n",
      "--------------------------------------------------------------------------------\n",
      "__START__                     $KEEP                         0.9997064471244812\n",
      "If                            $KEEP                         0.9915674328804016\n",
      "no                            $REPLACE_not                  0.8958739638328552\n",
      ",                             $KEEP                         0.9991412162780762\n",
      "could                         $KEEP                         0.9979130625724792\n",
      "you                           $KEEP                         0.9986851811408997\n",
      "please                        $KEEP                         0.998656153678894\n",
      "help                          $KEEP                         0.999757707118988\n",
      "me                            $KEEP                         0.9997047781944275\n",
      "to                            $KEEP                         0.9863321781158447\n",
      "remove                        $KEEP                         0.993831992149353\n",
      "this                          $REPLACE_these                0.9499198198318481\n",
      "requirements                  $KEEP                         0.8436237573623657\n",
      "from                          $KEEP                         0.9982609152793884\n",
      "my                            $KEEP                         0.9994275569915771\n",
      "application                   $KEEP                         0.9971777200698853\n",
      "?                             $KEEP                         0.9991353154182434\n",
      "--------------------------------------------------------------------------------\n",
      "\n",
      "<Iteration 2>\n",
      "Sentence Error Probability: 0.010328763164579868\n",
      "# From #  If not , could you please help me to remove these requirements from my application ?\n",
      "#  To  #  If not , could you please help me to remove these requirements from my application ?\n",
      "--------------------------------------------------------------------------------\n",
      "__START__                     $KEEP                         0.9998836517333984\n",
      "If                            $KEEP                         0.9990082383155823\n",
      "not                           $KEEP                         0.9912146329879761\n",
      ",                             $KEEP                         0.9994820952415466\n",
      "could                         $KEEP                         0.9977128505706787\n",
      "you                           $KEEP                         0.999076247215271\n",
      "please                        $KEEP                         0.9989232420921326\n",
      "help                          $KEEP                         0.9997673630714417\n",
      "me                            $KEEP                         0.9997596144676208\n",
      "to                            $KEEP                         0.9868617653846741\n",
      "remove                        $KEEP                         0.9968860745429993\n",
      "these                         $KEEP                         0.9903533458709717\n",
      "requirements                  $KEEP                         0.9967459440231323\n",
      "from                          $KEEP                         0.9988304972648621\n",
      "my                            $KEEP                         0.9995630383491516\n",
      "application                   $KEEP                         0.9981191754341125\n",
      "?                             $KEEP                         0.9990880489349365\n",
      "--------------------------------------------------------------------------------\n",
      "\n",
      "\n",
      "Hi, \n",
      "\n",
      "My namme is Citao Wu  (EID: cw39729) and I do admitted into the Computer Online Master prograssm 2021 spring. In my status panel, I saw a requirement about \"Required immunizations\".\n",
      "\n",
      "My question is whether I still need to meets this requirement or not, even thoxugh my program is fully online. \n",
      "\n",
      "If no, could you please help me to remove this requirements from my application?\n",
      "\n",
      "Thanks,\n",
      "\n",
      "\n",
      "\n",
      "Hi, \n",
      "\n",
      "My name is Citao Wu  (EID: cw39729) And I do admit into the Computer Online Master program 2021 spring. In my status panel, I saw a requirement about \"Required immunizations\".\n",
      "\n",
      "My question is whether I still need to meet this requirement or not, even though my program is fully online. \n",
      "\n",
      "If not, could you please help me to remove these requirements from my application?\n",
      "\n",
      "Thanks,\n",
      "\n",
      "\n",
      "[['namme', 'name', [10, 15]], ['Wu', 'Wu . ', [25, 28]], ['and', 'And', [44, 47]], ['admitted', 'admit', [53, 61]], ['prograssm', 'program', [94, 103]], ['', '\\n\\n', [117, 119]], ['meets', 'meet', [229, 234]], ['thoxugh', 'though', [265, 272]], ['', '\\n\\n', [301, 303]], ['no', 'not', [306, 308]], ['this', 'these', [345, 349]], ['', '\\n\\n', [383, 385]]]\n"
     ]
    }
   ],
   "source": [
    "# text = \"England coach Andy Robinson is already without centre Will Greenwood and flanker Richard Hill while fly-half Jonny Wilkinson is certain to miss at least the first two games.\"\n",
    "# text = \"Hi, Guibin! My namme is Citao. The marked was closed yestreday. (This email are sent from OnMail.)\"\n",
    "# text = \"Millions to miss out on the net\"\n",
    "# text = \"The marked is closed today.\"\n",
    "\n",
    "text = \"\"\"\n",
    "Hi, \n",
    "\n",
    "My namme is Citao Wu  (EID: cw39729) and I do admitted into the Computer Online Master prograssm 2021 spring. In my status panel, I saw a requirement about \"Required immunizations\".\n",
    "\n",
    "My question is whether I still need to meets this requirement or not, even thoxugh my program is fully online. \n",
    "\n",
    "If no, could you please help me to remove this requirements from my application?\n",
    "\n",
    "Thanks,\n",
    "\n",
    "\"\"\"\n",
    "# text = \"I want go school\"\n",
    "# text = \"I I want go to school\"\n",
    "data = {\n",
    "    'text': text,\n",
    "    'iterations': 3,\n",
    "    'min_probability': 0.5,\n",
    "    'min_error_probability': 0.7,\n",
    "    'case_sensitive': True,\n",
    "    'languagetool_post_process': True,\n",
    "    'languagetool_call_thres': 0.7,\n",
    "    'whitelist': ['Citao', 'Guibin', 'Onmail'],\n",
    "    'with_debug_info': True,\n",
    "}\n",
    "\n",
    "result = call_gec(data)\n",
    "\n",
    "print(result['debug_info'])\n",
    "print(result['input'])\n",
    "print(result['output'])\n",
    "print(result['corrections'])\n"
   ]
  },
  {
   "cell_type": "code",
   "execution_count": null,
   "metadata": {},
   "outputs": [],
   "source": [
    "for domain in domains:\n",
    "    print(domain)\n",
    "    right_data = record[domain]['pass']\n",
    "    wrong_data = record[domain]['wrong']\n",
    "    print(len(right_data), len(wrong_data))"
   ]
  },
  {
   "cell_type": "code",
   "execution_count": null,
   "metadata": {},
   "outputs": [],
   "source": [
    "for sent in record['tech']['wrong']:\n",
    "    print([sent])\n",
    "    break"
   ]
  },
  {
   "cell_type": "code",
   "execution_count": null,
   "metadata": {},
   "outputs": [],
   "source": []
  },
  {
   "cell_type": "code",
   "execution_count": null,
   "metadata": {
    "scrolled": true
   },
   "outputs": [],
   "source": [
    "import json\n",
    "\n",
    "total = json.load(open('./bbc_news_result_2_0.8_0.9_False.json'))\n",
    "\n",
    "i = 0\n",
    "\n",
    "for min_probability in [0.5, 0.6, 0.7, 0.8]:\n",
    "    for min_error_probability in [0.7, 0.8, 0.9]:\n",
    "        for add_spell_check in [True, False]:\n",
    "            fn = './result/bbc_news_result_2_{}_{}_{}.json'.format(min_probability, min_error_probability, str(add_spell_check))\n",
    "            tmp = {domain: total[domain][5000*i:5000*(i+1)] for domain in domains}\n",
    "            print(fn)\n",
    "            json.dump(tmp, open(fn, 'w'))\n",
    "            i+=1\n"
   ]
  },
  {
   "cell_type": "code",
   "execution_count": null,
   "metadata": {
    "scrolled": false
   },
   "outputs": [],
   "source": [
    "import pandas as pd\n",
    "\n",
    "source_rows = []\n",
    "\n",
    "for min_probability in [0.5, 0.6, 0.7, 0.8]:\n",
    "    for min_error_probability in [0.7, 0.8, 0.9]:\n",
    "        for add_spell_check in [True, False]:\n",
    "            fn = './result/bbc_news_result_2_{}_{}_{}.json'.format(min_probability, min_error_probability, str(add_spell_check))\n",
    "            tmp = json.load(open(fn))\n",
    "            result = {\n",
    "                'cased': {domain: {'right':[], 'wrong':[]} for domain in domains},\n",
    "                'uncased': {domain: {'right':[], 'wrong':[]} for domain in domains}\n",
    "            }\n",
    "            print(fn)\n",
    "            for domain in domains:\n",
    "                for ori_sent, cor_sent, correction in tmp[domain]:\n",
    "                    if correction == []:\n",
    "                        result['cased'][domain]['right'].append(ori_sent)\n",
    "                        result['uncased'][domain]['right'].append(ori_sent)\n",
    "                    else:\n",
    "                        result['cased'][domain]['wrong'].append(ori_sent)\n",
    "                        uncased_correction = [c for c in correction if c[0].lower()!=c[1].lower()]\n",
    "                        if uncased_correction:\n",
    "                            result['uncased'][domain]['wrong'].append(ori_sent)\n",
    "                        else:\n",
    "                            result['uncased'][domain]['right'].append(ori_sent)\n",
    "            \n",
    "            for case_type in ['cased', 'uncased']:\n",
    "                row = {\n",
    "                    'min_probability': min_probability,\n",
    "                    'min_error_probability': min_error_probability,\n",
    "                    'add_spell_check': add_spell_check,\n",
    "                    'cased_type': case_type,\n",
    "                }\n",
    "                row.update({d: len(result[case_type][d]['right'])/5000.0 for d in domains})\n",
    "                source_rows.append(row)\n",
    "            \n",
    "                \n",
    "            \n",
    "            "
   ]
  },
  {
   "cell_type": "code",
   "execution_count": null,
   "metadata": {},
   "outputs": [],
   "source": [
    "df = pd.DataFrame(source_rows)"
   ]
  },
  {
   "cell_type": "code",
   "execution_count": null,
   "metadata": {
    "scrolled": true
   },
   "outputs": [],
   "source": [
    "df"
   ]
  },
  {
   "cell_type": "code",
   "execution_count": null,
   "metadata": {},
   "outputs": [],
   "source": [
    "df.to_csv('~/eval_pos.csv', index=False)"
   ]
  },
  {
   "cell_type": "code",
   "execution_count": null,
   "metadata": {},
   "outputs": [],
   "source": [
    "for domain in domains:\n",
    "    df[df['min_probability']==0.]"
   ]
  },
  {
   "cell_type": "code",
   "execution_count": null,
   "metadata": {},
   "outputs": [],
   "source": [
    "import numpy as np\n",
    "1-np.average(df[df['cased_type']=='uncased'].iloc[:, 4:].to_numpy())"
   ]
  },
  {
   "cell_type": "code",
   "execution_count": 30,
   "metadata": {},
   "outputs": [
    {
     "name": "stdout",
     "output_type": "stream",
     "text": [
      "2819 4384 4384\n"
     ]
    }
   ],
   "source": [
    "path='/home/citao/github/gector/dataset/'\n",
    "fn = 'wil.ABCN.dev.gold.bea19.0'\n",
    "source_list = [i.strip() for i in open(path+fn+'.source').readlines()]\n",
    "target_list = [i.strip() for i in open(path+fn+'.target').readlines()]\n",
    "\n",
    "diff = 0\n",
    "for s, t in zip(source_list, target_list):\n",
    "    if s!=t:\n",
    "        diff+=1\n",
    "\n",
    "print(diff, len(source_list), len(target_list))"
   ]
  },
  {
   "cell_type": "code",
   "execution_count": 38,
   "metadata": {},
   "outputs": [
    {
     "data": {
      "text/plain": [
       "1565"
      ]
     },
     "execution_count": 38,
     "metadata": {},
     "output_type": "execute_result"
    }
   ],
   "source": [
    "4384-2819"
   ]
  },
  {
   "cell_type": "code",
   "execution_count": 35,
   "metadata": {
    "scrolled": true
   },
   "outputs": [
    {
     "name": "stdout",
     "output_type": "stream",
     "text": [
      "It 's difficult answer at the question \" what are you going to do in the future ? \" if the only one who has to know it is in two minds .\n",
      "It 's difficult to answer the question \" what are you going to do in the future ? \" if the only one who has to know it is in two minds .\n",
      "\n",
      "When I was younger I used to say that I wanted to be a teacher , a saleswoman and even a butcher .. I do n't know why .\n",
      "When I was younger , I used to say that I wanted to be a teacher , a saleswoman and even a butcher . I do n't know why .\n",
      "\n",
      "I would like to study Psychology because one day I would open my own psychology office and help people .\n",
      "I would like to study Psychology , because one day I would like to open my own psychology clinic and help people .\n",
      "\n",
      "It 's difficult because I 'll have to study hard and a lot , but I think that if you like a subject , you 'll study it easier .\n",
      "It 's difficult because I 'll have to study hard and a lot , but I think that if you like a subject , you 'll study it more easily .\n",
      "\n",
      "Maybe I 'll change my mind , maybe not .\n",
      "Maybe I 'll change my mind , maybe not .\n",
      "\n",
      "I think that the public transport will always be in the future .\n",
      "I think that public transport will always exist in the future .\n",
      "\n",
      "The rich people will buy a car but the poor people always need to use a bus or taxi .\n",
      "Rich people will buy a car , but poor people always need to use a bus or taxi .\n",
      "\n",
      "I consider that is more convenient to drive a car because you carry on more things in your own car than travelling by car .\n",
      "I consider it more convenient to drive a car , because you carry more things in your own car than when travelling by car .\n",
      "\n",
      "Also , you 'll meet friendly people who usually ask to you something to be friends and change your telephone number .\n",
      "Also , you 'll meet friendly people who usually ask you to be friends and exchange telephone numbers .\n",
      "\n",
      "In my experience when I did n't have a car I used to use the bus to go to the school and go back to my house .\n",
      "In my experience , when I did n't have a car I used to use the bus to go to school and go back to my house .\n",
      "\n"
     ]
    }
   ],
   "source": [
    "for s, t in zip(source_list[:10], target_list):\n",
    "    print(s)\n",
    "    print(t)\n",
    "    print()"
   ]
  },
  {
   "cell_type": "code",
   "execution_count": 40,
   "metadata": {},
   "outputs": [
    {
     "data": {
      "text/plain": [
       "26565"
      ]
     },
     "execution_count": 40,
     "metadata": {},
     "output_type": "execute_result"
    }
   ],
   "source": [
    "25000+1565"
   ]
  },
  {
   "cell_type": "code",
   "execution_count": 41,
   "metadata": {},
   "outputs": [
    {
     "data": {
      "text/plain": [
       "0.095936564116526"
      ]
     },
     "execution_count": 41,
     "metadata": {},
     "output_type": "execute_result"
    }
   ],
   "source": [
    "2819 / (2819+26565)"
   ]
  },
  {
   "cell_type": "code",
   "execution_count": 49,
   "metadata": {},
   "outputs": [
    {
     "name": "stdout",
     "output_type": "stream",
     "text": [
      "0.0\n"
     ]
    },
    {
     "data": {
      "text/plain": [
       "2"
      ]
     },
     "execution_count": 49,
     "metadata": {},
     "output_type": "execute_result"
    }
   ],
   "source": [
    "import Levenshtein\n",
    "from difflib import SequenceMatcher\n",
    "from nltk.corpus import words\n",
    "\n",
    "\n",
    "NLTK_COMMON_WORDS = {w:1 for w in words.words()}\n",
    "\n",
    "# 1: spelling error\n",
    "# 2: grammar error\n",
    "def spell_or_grammer_error(correction):\n",
    "    ori, cor, _ = correction\n",
    "    if len(ori.split()) != len(cor.split()):\n",
    "        return 2\n",
    "    # dist = Levenshtein.distance(ori, cor)\n",
    "    # print(dist)\n",
    "    seq = SequenceMatcher(None, ori, cor)\n",
    "    ratio = seq.ratio()\n",
    "    print(ratio)\n",
    "\n",
    "    # if dist <= 3:\n",
    "    if ratio > 0.8 and ori not in NLTK_COMMON_WORDS:\n",
    "        return 1\n",
    "    else:\n",
    "        return 2\n",
    "\n",
    "correction = ['are', 'is', [10, 15]]\n",
    "spell_or_grammer_error(correction)"
   ]
  },
  {
   "cell_type": "code",
   "execution_count": 41,
   "metadata": {},
   "outputs": [],
   "source": []
  },
  {
   "cell_type": "code",
   "execution_count": null,
   "metadata": {},
   "outputs": [],
   "source": []
  }
 ],
 "metadata": {
  "kernelspec": {
   "display_name": "Python [conda env:python37]",
   "language": "python",
   "name": "conda-env-python37-py"
  },
  "language_info": {
   "codemirror_mode": {
    "name": "ipython",
    "version": 3
   },
   "file_extension": ".py",
   "mimetype": "text/x-python",
   "name": "python",
   "nbconvert_exporter": "python",
   "pygments_lexer": "ipython3",
   "version": "3.7.6"
  }
 },
 "nbformat": 4,
 "nbformat_minor": 2
}
