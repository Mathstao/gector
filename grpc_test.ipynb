{
 "cells": [
  {
   "cell_type": "code",
   "execution_count": 1,
   "metadata": {},
   "outputs": [],
   "source": [
    "import grpc\n",
    "\n",
    "from common import common_pb2\n",
    "\n",
    "from spell_check_idl import spell_check_service_pb2 as spell_check_pb2\n",
    "from spell_check_idl import spell_check_service_pb2_grpc as spell_check_pb2_grpc\n",
    "\n",
    "# host = '0.0.0.0:10829'\n",
    "host = 'global-spell-check-service.engineering.onmail.io:50051'\n",
    "check_config = spell_check_pb2.CheckConfig(\n",
    "    iterations = 3,\n",
    "    min_probability = 0.7,\n",
    "    min_error_probability = 0.5,\n",
    "    case_sensitive = True,\n",
    "    languagetool_post_process = True,\n",
    "    languagetool_call_thres = 0.7,\n",
    "    whitelist = [\"Citao\", \"Guibin\", \"OnMail\"],\n",
    "    with_debug_info = True\n",
    ")\n",
    "\n",
    "def call_gec_grpc(text):\n",
    "    with grpc.insecure_channel(host) as channel:\n",
    "        stub = spell_check_pb2_grpc.SpellCheckServiceStub(channel)\n",
    "        common_req = {\n",
    "            \"log_id\": \"abcdefg\",\n",
    "            \"client_name\": \"local_test\",\n",
    "            \"email_address\": \"wucitao@engineering.onmail.com\",\n",
    "            \"user_id\": 89,\n",
    "        }\n",
    "\n",
    "        req_content = {\n",
    "            \"text\": text,\n",
    "            \"config\": check_config\n",
    "        }\n",
    "        request = spell_check_pb2.TextCheckReq(common_req=common_req, req_content=req_content)\n",
    "        response = stub.TextCheck(request)\n",
    "        return response\n",
    "\n",
    "def call_gec_batch_grpc(texts):\n",
    "    with grpc.insecure_channel(host) as channel:\n",
    "        stub = spell_check_pb2_grpc.SpellCheckServiceStub(channel)\n",
    "        common_req = {\n",
    "            \"log_id\": \"abcdefg\",\n",
    "            \"client_name\": \"local_test\",\n",
    "            \"email_address\": \"wucitao@engineering.onmail.com\",\n",
    "            \"user_id\": 89,\n",
    "        }\n",
    "\n",
    "        req_content = {\n",
    "            \"texts\": texts,\n",
    "            \"config\": check_config\n",
    "        }\n",
    "        request = spell_check_pb2.BatchTextCheckReq(common_req=common_req, req_content=req_content)\n",
    "        response = stub.BatchTextCheck(request)\n",
    "        return response"
   ]
  },
  {
   "cell_type": "code",
   "execution_count": 2,
   "metadata": {},
   "outputs": [],
   "source": [
    "text_list = [\n",
    "    \"The marked is closed today.\",\n",
    "    \"Hi, Guibin! My namme is Citao. The marked was closed yestreday. (This email are sent from OnMail.)\",\n",
    "    \"England coach Andy Robinson is already without centre Will Greenwood and flanker Richard Hill while fly-half Jonny Wilkinson is certain to miss at least the first two games.\",\n",
    "    \"This boook is very interestign.\",\n",
    "    \"My nammeo  are Citao.\",\n",
    "    \"I want go school.\",\n",
    "    \"I wants go school.\",\n",
    "    \"In my opinion it is not a good choice.\",\n",
    "    \"Plan going well?\",\n",
    "    \"My namme is Edison. <This emali are sent from OnMail>\"\n",
    "    \n",
    "]\n",
    "\n",
    "text_list = [\n",
    "    \"My namme is Citao\",\n",
    "    \"Myy name are Citao\"\n",
    "]"
   ]
  },
  {
   "cell_type": "code",
   "execution_count": 3,
   "metadata": {
    "scrolled": false
   },
   "outputs": [
    {
     "ename": "KeyboardInterrupt",
     "evalue": "",
     "output_type": "error",
     "traceback": [
      "\u001b[0;31m---------------------------------------------------------------------------\u001b[0m",
      "\u001b[0;31mKeyboardInterrupt\u001b[0m                         Traceback (most recent call last)",
      "\u001b[0;32m<ipython-input-3-482f29790f35>\u001b[0m in \u001b[0;36m<module>\u001b[0;34m\u001b[0m\n\u001b[1;32m      1\u001b[0m \u001b[0;32mfor\u001b[0m \u001b[0mtext\u001b[0m \u001b[0;32min\u001b[0m \u001b[0mtext_list\u001b[0m\u001b[0;34m:\u001b[0m\u001b[0;34m\u001b[0m\u001b[0;34m\u001b[0m\u001b[0m\n\u001b[0;32m----> 2\u001b[0;31m     \u001b[0mresp\u001b[0m \u001b[0;34m=\u001b[0m \u001b[0mcall_gec_grpc\u001b[0m\u001b[0;34m(\u001b[0m\u001b[0mtext\u001b[0m\u001b[0;34m)\u001b[0m\u001b[0;34m\u001b[0m\u001b[0;34m\u001b[0m\u001b[0m\n\u001b[0m\u001b[1;32m      3\u001b[0m     \u001b[0mprint\u001b[0m\u001b[0;34m(\u001b[0m\u001b[0mtext\u001b[0m\u001b[0;34m)\u001b[0m\u001b[0;34m\u001b[0m\u001b[0;34m\u001b[0m\u001b[0m\n\u001b[1;32m      4\u001b[0m     \u001b[0mprint\u001b[0m\u001b[0;34m(\u001b[0m\u001b[0mresp\u001b[0m\u001b[0;34m.\u001b[0m\u001b[0mresp_content\u001b[0m\u001b[0;34m.\u001b[0m\u001b[0mresult\u001b[0m\u001b[0;34m.\u001b[0m\u001b[0mcorrected_text\u001b[0m\u001b[0;34m)\u001b[0m\u001b[0;34m\u001b[0m\u001b[0;34m\u001b[0m\u001b[0m\n\u001b[1;32m      5\u001b[0m     \u001b[0;32mfor\u001b[0m \u001b[0mc\u001b[0m \u001b[0;32min\u001b[0m \u001b[0mresp\u001b[0m\u001b[0;34m.\u001b[0m\u001b[0mresp_content\u001b[0m\u001b[0;34m.\u001b[0m\u001b[0mresult\u001b[0m\u001b[0;34m.\u001b[0m\u001b[0mcorrections\u001b[0m\u001b[0;34m:\u001b[0m\u001b[0;34m\u001b[0m\u001b[0;34m\u001b[0m\u001b[0m\n",
      "\u001b[0;32m<ipython-input-1-54d2eedb59fc>\u001b[0m in \u001b[0;36mcall_gec_grpc\u001b[0;34m(text)\u001b[0m\n\u001b[1;32m     34\u001b[0m         }\n\u001b[1;32m     35\u001b[0m         \u001b[0mrequest\u001b[0m \u001b[0;34m=\u001b[0m \u001b[0mspell_check_pb2\u001b[0m\u001b[0;34m.\u001b[0m\u001b[0mTextCheckReq\u001b[0m\u001b[0;34m(\u001b[0m\u001b[0mcommon_req\u001b[0m\u001b[0;34m=\u001b[0m\u001b[0mcommon_req\u001b[0m\u001b[0;34m,\u001b[0m \u001b[0mreq_content\u001b[0m\u001b[0;34m=\u001b[0m\u001b[0mreq_content\u001b[0m\u001b[0;34m)\u001b[0m\u001b[0;34m\u001b[0m\u001b[0;34m\u001b[0m\u001b[0m\n\u001b[0;32m---> 36\u001b[0;31m         \u001b[0mresponse\u001b[0m \u001b[0;34m=\u001b[0m \u001b[0mstub\u001b[0m\u001b[0;34m.\u001b[0m\u001b[0mTextCheck\u001b[0m\u001b[0;34m(\u001b[0m\u001b[0mrequest\u001b[0m\u001b[0;34m)\u001b[0m\u001b[0;34m\u001b[0m\u001b[0;34m\u001b[0m\u001b[0m\n\u001b[0m\u001b[1;32m     37\u001b[0m         \u001b[0;32mreturn\u001b[0m \u001b[0mresponse\u001b[0m\u001b[0;34m\u001b[0m\u001b[0;34m\u001b[0m\u001b[0m\n\u001b[1;32m     38\u001b[0m \u001b[0;34m\u001b[0m\u001b[0m\n",
      "\u001b[0;32m~/anaconda2/envs/python37/lib/python3.7/site-packages/grpc/_channel.py\u001b[0m in \u001b[0;36m__call__\u001b[0;34m(self, request, timeout, metadata, credentials, wait_for_ready, compression)\u001b[0m\n\u001b[1;32m    823\u001b[0m                  compression=None):\n\u001b[1;32m    824\u001b[0m         state, call, = self._blocking(request, timeout, metadata, credentials,\n\u001b[0;32m--> 825\u001b[0;31m                                       wait_for_ready, compression)\n\u001b[0m\u001b[1;32m    826\u001b[0m         \u001b[0;32mreturn\u001b[0m \u001b[0m_end_unary_response_blocking\u001b[0m\u001b[0;34m(\u001b[0m\u001b[0mstate\u001b[0m\u001b[0;34m,\u001b[0m \u001b[0mcall\u001b[0m\u001b[0;34m,\u001b[0m \u001b[0;32mFalse\u001b[0m\u001b[0;34m,\u001b[0m \u001b[0;32mNone\u001b[0m\u001b[0;34m)\u001b[0m\u001b[0;34m\u001b[0m\u001b[0;34m\u001b[0m\u001b[0m\n\u001b[1;32m    827\u001b[0m \u001b[0;34m\u001b[0m\u001b[0m\n",
      "\u001b[0;32m~/anaconda2/envs/python37/lib/python3.7/site-packages/grpc/_channel.py\u001b[0m in \u001b[0;36m_blocking\u001b[0;34m(self, request, timeout, metadata, credentials, wait_for_ready, compression)\u001b[0m\n\u001b[1;32m    811\u001b[0m                     \u001b[0;32mNone\u001b[0m\u001b[0;34m,\u001b[0m\u001b[0;34m\u001b[0m\u001b[0;34m\u001b[0m\u001b[0m\n\u001b[1;32m    812\u001b[0m                 ),), self._context)\n\u001b[0;32m--> 813\u001b[0;31m             \u001b[0mevent\u001b[0m \u001b[0;34m=\u001b[0m \u001b[0mcall\u001b[0m\u001b[0;34m.\u001b[0m\u001b[0mnext_event\u001b[0m\u001b[0;34m(\u001b[0m\u001b[0;34m)\u001b[0m\u001b[0;34m\u001b[0m\u001b[0;34m\u001b[0m\u001b[0m\n\u001b[0m\u001b[1;32m    814\u001b[0m             \u001b[0m_handle_event\u001b[0m\u001b[0;34m(\u001b[0m\u001b[0mevent\u001b[0m\u001b[0;34m,\u001b[0m \u001b[0mstate\u001b[0m\u001b[0;34m,\u001b[0m \u001b[0mself\u001b[0m\u001b[0;34m.\u001b[0m\u001b[0m_response_deserializer\u001b[0m\u001b[0;34m)\u001b[0m\u001b[0;34m\u001b[0m\u001b[0;34m\u001b[0m\u001b[0m\n\u001b[1;32m    815\u001b[0m             \u001b[0;32mreturn\u001b[0m \u001b[0mstate\u001b[0m\u001b[0;34m,\u001b[0m \u001b[0mcall\u001b[0m\u001b[0;34m\u001b[0m\u001b[0;34m\u001b[0m\u001b[0m\n",
      "\u001b[0;32msrc/python/grpcio/grpc/_cython/_cygrpc/channel.pyx.pxi\u001b[0m in \u001b[0;36mgrpc._cython.cygrpc.SegregatedCall.next_event\u001b[0;34m()\u001b[0m\n",
      "\u001b[0;32msrc/python/grpcio/grpc/_cython/_cygrpc/channel.pyx.pxi\u001b[0m in \u001b[0;36mgrpc._cython.cygrpc._next_call_event\u001b[0;34m()\u001b[0m\n",
      "\u001b[0;32msrc/python/grpcio/grpc/_cython/_cygrpc/channel.pyx.pxi\u001b[0m in \u001b[0;36mgrpc._cython.cygrpc._next_call_event\u001b[0;34m()\u001b[0m\n",
      "\u001b[0;32msrc/python/grpcio/grpc/_cython/_cygrpc/completion_queue.pyx.pxi\u001b[0m in \u001b[0;36mgrpc._cython.cygrpc._latent_event\u001b[0;34m()\u001b[0m\n",
      "\u001b[0;32msrc/python/grpcio/grpc/_cython/_cygrpc/completion_queue.pyx.pxi\u001b[0m in \u001b[0;36mgrpc._cython.cygrpc._next\u001b[0;34m()\u001b[0m\n",
      "\u001b[0;31mKeyboardInterrupt\u001b[0m: "
     ]
    }
   ],
   "source": [
    "for text in text_list:\n",
    "    resp = call_gec_grpc(text)\n",
    "    print(text)\n",
    "    print(resp.resp_content.result.corrected_text)\n",
    "    for c in resp.resp_content.result.corrections:\n",
    "        print(c)\n",
    "    print('-'*80)"
   ]
  },
  {
   "cell_type": "code",
   "execution_count": null,
   "metadata": {},
   "outputs": [],
   "source": []
  },
  {
   "cell_type": "code",
   "execution_count": null,
   "metadata": {},
   "outputs": [],
   "source": [
    "import random\n",
    "\n",
    "source_list = [i.strip() for i in open(\"./dataset/sampled_test.source\").readlines()]\n",
    "target_list = [i.strip() for i in open(\"./dataset/sampled_test.target\").readlines()]\n",
    "st_list = list(zip(source_list, target_list))\n",
    "random.shuffle(st_list)\n",
    "source_list, target_list = zip(*st_list)\n",
    "del st_list"
   ]
  },
  {
   "cell_type": "code",
   "execution_count": null,
   "metadata": {
    "scrolled": false
   },
   "outputs": [],
   "source": [
    "for i, text in enumerate(source_list[:20]):\n",
    "    text = drop_punctuation_space(text)\n",
    "    target = drop_punctuation_space(target_list[i])\n",
    "    \n",
    "    resp = call_gec_grpc(text)\n",
    "    if resp.resp_content.corrected_text != target:\n",
    "        print(text)\n",
    "        print(resp.resp_content.corrected_text)\n",
    "        print(target)\n",
    "        print()\n",
    "        for c in resp.resp_content.corrections:\n",
    "            print(c.orig_sub_text)\n",
    "            print(c.cor_sub_text)\n",
    "            print(c.start_index, c.end_index)\n",
    "        print('-'*80)\n",
    "        print()"
   ]
  },
  {
   "cell_type": "code",
   "execution_count": null,
   "metadata": {},
   "outputs": [],
   "source": [
    "### text = \"In the early eighties \\\"casual sex\\\" in the United States was a widely accepted idea, now it is something people really take into consideration and rarely occurs.\"\n",
    "text = \"The divisions in their family and the fight between prince and the princes of Wales and the possibility of the divorce .\"\n",
    "text = \"In the early eighties \\\" casual sex \\\" in the United States was a widely accepted idea , now it is something people really take into consideration and rarely occurs .\"\n",
    "resp = call_gec_grpc(text)\n",
    "print(text)\n",
    "print(resp.resp_content.corrected_text)\n",
    "print()\n",
    "for c in resp.resp_content.corrections:\n",
    "    print(c)"
   ]
  },
  {
   "cell_type": "code",
   "execution_count": null,
   "metadata": {},
   "outputs": [],
   "source": [
    "text = \"I want to buy a a apple.\"\n",
    "resp = call_gec_grpc(text)\n",
    "print(text)\n",
    "print(resp.resp_content.corrected_text)\n",
    "print()\n",
    "for c in resp.resp_content.corrections:\n",
    "    print(c)"
   ]
  },
  {
   "cell_type": "code",
   "execution_count": null,
   "metadata": {},
   "outputs": [],
   "source": [
    "corrections = [['I', 'I', [0, 1]], ['want', 'want', [2, 6]], ['to', 'to', [7, 9]], ['buy', 'buy', [10, 13]], ['a', 'a', [14, 15]], ['a', '', [16, 17]], ['apple', 'apple', [18, 23]], ['.', '.', [23, 24]]]"
   ]
  },
  {
   "cell_type": "code",
   "execution_count": null,
   "metadata": {},
   "outputs": [],
   "source": [
    "forward_merge_corrections(text, corrections)"
   ]
  },
  {
   "cell_type": "code",
   "execution_count": null,
   "metadata": {},
   "outputs": [],
   "source": []
  },
  {
   "cell_type": "code",
   "execution_count": null,
   "metadata": {},
   "outputs": [],
   "source": []
  },
  {
   "cell_type": "code",
   "execution_count": null,
   "metadata": {},
   "outputs": [],
   "source": [
    "import re\n"
   ]
  },
  {
   "cell_type": "code",
   "execution_count": null,
   "metadata": {},
   "outputs": [],
   "source": [
    "import re\n",
    "import string\n",
    "exclude = list(set(string.punctuation))\n",
    "r_exclude = ['\\\\'+i for i in exclude]\n",
    "# DROP_RE = re.compile(r\"(\\w)( +)([{}]+)\".format(''.join(list(r_exclude))))\n",
    "\n",
    "DROP_1_RE = re.compile(r\"(\\w)( +)([,\\.\\!]+)\")\n",
    "DROP_2_RE = re.compile(r\"(\\\")( )([^\\\"]+)( )(\\\")\")\n",
    "\n",
    "\n",
    "# In the early eighties \" casual sex \" .\n",
    "\n",
    "def drop_punctuation_space(text):\n",
    "    text = re.sub(DROP_1_RE, r\"\\1\\3\", text)\n",
    "    text = re.sub(DROP_2_RE, r\"\\1\\3\\5\", text)\n",
    "    return text\n"
   ]
  },
  {
   "cell_type": "code",
   "execution_count": null,
   "metadata": {},
   "outputs": [],
   "source": []
  },
  {
   "cell_type": "code",
   "execution_count": null,
   "metadata": {},
   "outputs": [],
   "source": [
    "drop_punctuation_space('In the early eighties \" casual sex \" in the United S')"
   ]
  },
  {
   "cell_type": "code",
   "execution_count": null,
   "metadata": {},
   "outputs": [],
   "source": [
    "import spacy\n",
    "nlp = spacy.load(\"en_core_web_sm\")"
   ]
  },
  {
   "cell_type": "code",
   "execution_count": null,
   "metadata": {},
   "outputs": [],
   "source": [
    "nlp = spacy.load(\"en_core_web_sm\")"
   ]
  },
  {
   "cell_type": "code",
   "execution_count": null,
   "metadata": {},
   "outputs": [],
   "source": [
    "import base64"
   ]
  },
  {
   "cell_type": "code",
   "execution_count": null,
   "metadata": {},
   "outputs": [],
   "source": [
    "base64.b('e09s66hgmps')"
   ]
  },
  {
   "cell_type": "code",
   "execution_count": null,
   "metadata": {},
   "outputs": [],
   "source": [
    "base64.b64decode(int('e09s66hgmps', 36))"
   ]
  },
  {
   "cell_type": "code",
   "execution_count": null,
   "metadata": {},
   "outputs": [],
   "source": [
    "b36_int = int('dv51xlqapz4', 36)\n",
    "# base64.b64encode(bytes(b36_int))"
   ]
  },
  {
   "cell_type": "code",
   "execution_count": null,
   "metadata": {},
   "outputs": [],
   "source": [
    "b36_int"
   ]
  },
  {
   "cell_type": "code",
   "execution_count": 30,
   "metadata": {
    "scrolled": false
   },
   "outputs": [
    {
     "data": {
      "text/plain": [
       "common_resp {\n",
       "  log_id: \"abcdefg\"\n",
       "  runtime: 225233\n",
       "}\n",
       "resp_content {\n",
       "  result {\n",
       "    need_correct: true\n",
       "    corrected_text: \"My name is Citao\"\n",
       "    corrections {\n",
       "      orig_sub_text: \"namme\"\n",
       "      cor_sub_text: \"name\"\n",
       "      start_index: 3\n",
       "      end_index: 8\n",
       "      type: SPELIING\n",
       "    }\n",
       "  }\n",
       "  result {\n",
       "    need_correct: true\n",
       "    corrected_text: \"My name is Citao\"\n",
       "    corrections {\n",
       "      orig_sub_text: \"Myy\"\n",
       "      cor_sub_text: \"My\"\n",
       "      end_index: 3\n",
       "      type: GRAMMAR\n",
       "    }\n",
       "    corrections {\n",
       "      orig_sub_text: \"are\"\n",
       "      cor_sub_text: \"is\"\n",
       "      start_index: 9\n",
       "      end_index: 12\n",
       "      type: GRAMMAR\n",
       "    }\n",
       "  }\n",
       "}"
      ]
     },
     "execution_count": 30,
     "metadata": {},
     "output_type": "execute_result"
    }
   ],
   "source": [
    "call_gec_batch_grpc(text_list)"
   ]
  },
  {
   "cell_type": "code",
   "execution_count": 35,
   "metadata": {},
   "outputs": [],
   "source": [
    "vals = []\n",
    "for line in sys.stdin:\n",
    "    vals.append(line)"
   ]
  },
  {
   "cell_type": "code",
   "execution_count": null,
   "metadata": {},
   "outputs": [],
   "source": []
  },
  {
   "cell_type": "code",
   "execution_count": null,
   "metadata": {},
   "outputs": [],
   "source": []
  }
 ],
 "metadata": {
  "kernelspec": {
   "display_name": "Python [conda env:python37]",
   "language": "python",
   "name": "conda-env-python37-py"
  }
 },
 "nbformat": 4,
 "nbformat_minor": 2
}
