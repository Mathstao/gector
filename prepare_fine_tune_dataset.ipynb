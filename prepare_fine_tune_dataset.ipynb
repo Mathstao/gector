{
 "cells": [
  {
   "cell_type": "code",
   "execution_count": 3,
   "metadata": {},
   "outputs": [],
   "source": [
    "import requests\n",
    "import os\n",
    "from tqdm import tqdm\n",
    "import spacy\n",
    "nlp = spacy.load(\"en\")\n",
    "\n",
    "from random import shuffle"
   ]
  },
  {
   "cell_type": "code",
   "execution_count": 2,
   "metadata": {},
   "outputs": [
    {
     "name": "stdout",
     "output_type": "stream",
     "text": [
      "business 8653\n",
      "entertainment 7250\n",
      "politics 9524\n",
      "/home/citao/github/BBC-Dataset-News-Classification/dataset/data_files/sport/199.txt\n",
      "sport 10341\n",
      "tech 10469\n"
     ]
    }
   ],
   "source": [
    "data_path = '/home/citao/github/BBC-Dataset-News-Classification/dataset/data_files'\n",
    "domains = ['business', 'entertainment', 'politics', 'sport', 'tech']\n",
    "\n",
    "corpus = {d: [] for d in domains}\n",
    "for domain in domains:\n",
    "    domain_path = os.path.join(data_path, domain)\n",
    "    for f in os.listdir(domain_path):\n",
    "        full_path = os.path.join(domain_path, f)\n",
    "        try:\n",
    "            doc = nlp(open(full_path).read())\n",
    "            corpus[domain].extend([i.text for i in doc.sents])\n",
    "        except:\n",
    "            print(full_path)\n",
    "    print(domain, len(corpus[domain]))"
   ]
  },
  {
   "cell_type": "code",
   "execution_count": 12,
   "metadata": {},
   "outputs": [
    {
     "name": "stdout",
     "output_type": "stream",
     "text": [
      "25000\n",
      "25000\n"
     ]
    }
   ],
   "source": [
    "# select 5000 sentences from each domain\n",
    "\n",
    "bbc_source_list = []\n",
    "bbc_target_list = []\n",
    "\n",
    "for domain in domains:\n",
    "    tmp_list = corpus[domain]\n",
    "    shuffle(tmp_list)\n",
    "    tmp_list = [i.strip().replace('\\n', ' ') for i in tmp_list]\n",
    "    bbc_source_list.extend(tmp_list[:5000])\n",
    "    bbc_target_list.extend(tmp_list[:5000])\n",
    "\n",
    "print(len(bbc_source_list))\n",
    "print(len(bbc_target_list))"
   ]
  },
  {
   "cell_type": "code",
   "execution_count": 13,
   "metadata": {},
   "outputs": [
    {
     "name": "stdout",
     "output_type": "stream",
     "text": [
      "2819 4384 4384\n"
     ]
    }
   ],
   "source": [
    "path='/home/citao/github/gector/dataset/'\n",
    "fn = 'wil.ABCN.dev.gold.bea19.0'\n",
    "wil_source_list = [i.strip() for i in open(path+fn+'.source').readlines()]\n",
    "wil_target_list = [i.strip() for i in open(path+fn+'.target').readlines()]\n",
    "\n",
    "diff = 0\n",
    "for s, t in zip(wil_source_list, wil_target_list):\n",
    "    if s!=t:\n",
    "        diff+=1\n",
    "\n",
    "print(diff, len(wil_source_list), len(wil_target_list))"
   ]
  },
  {
   "cell_type": "code",
   "execution_count": 14,
   "metadata": {},
   "outputs": [],
   "source": [
    "with open('./dataset/sampled_test.source', 'w') as f:\n",
    "    for i in bbc_source_list+wil_source_list:\n",
    "        f.write(i+'\\n')\n",
    "\n",
    "with open('./dataset/sampled_test.target', 'w') as f:\n",
    "    for i in bbc_target_list+wil_target_list:\n",
    "        f.write(i+'\\n')"
   ]
  },
  {
   "cell_type": "code",
   "execution_count": null,
   "metadata": {},
   "outputs": [],
   "source": []
  }
 ],
 "metadata": {
  "kernelspec": {
   "display_name": "Python [conda env:python37]",
   "language": "python",
   "name": "conda-env-python37-py"
  },
  "language_info": {
   "codemirror_mode": {
    "name": "ipython",
    "version": 3
   },
   "file_extension": ".py",
   "mimetype": "text/x-python",
   "name": "python",
   "nbconvert_exporter": "python",
   "pygments_lexer": "ipython3",
   "version": "3.7.6"
  }
 },
 "nbformat": 4,
 "nbformat_minor": 2
}
